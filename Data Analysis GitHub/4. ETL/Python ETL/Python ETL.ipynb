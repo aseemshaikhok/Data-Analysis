{
 "cells": [
  {
   "cell_type": "markdown",
   "metadata": {},
   "source": [
    "# ETL with Python   \n",
    "## By “Aseem Shaikh\""
   ]
  },
  {
   "cell_type": "markdown",
   "metadata": {},
   "source": [
    "### Executive summary : The script is designed to perform a ETL process. The task involves implementing a comprehensive logging process to record each step, including errors and warnings. The process starts by creating dedicated folders for downloaded zip file, extracted contents, logging and output. Subsequently, data is downloaded from a specified URL, and the downloaded zip file is extracted. The extracted data, comprising CSV, JSON, and XML files, is then transformed and integrated into a unified Pandas DataFrame. As part of the transformation, the price column is doubled, and the values are rounded to two decimal places. Finally, the processed and transformed data is saved as a CSV file in the designated output folder."
   ]
  },
  {
   "cell_type": "markdown",
   "metadata": {},
   "source": [
    "#### Logging to record executions"
   ]
  },
  {
   "cell_type": "code",
   "execution_count": 18,
   "metadata": {},
   "outputs": [],
   "source": [
    "#Setting up logging.\n",
    "import logging\n",
    "from datetime import datetime\n",
    "import os\n",
    "\n",
    "base_directory = os.getcwd()\n",
    "\n",
    "if not os.path.exists('logs'):os.mkdir('logs')\n",
    "# Configure logging\n",
    "logging.basicConfig(\n",
    "    filename=base_directory+'\\logs\\logs.etl',\n",
    "    filemode='a',\n",
    "    format='[%(levelname)s] - %(asctime)s - %(processName)s - %(message)s',\n",
    "    force=True,\n",
    "    level= logging.DEBUG\n",
    "    )\n",
    "\n",
    "logging.info('ETL process Started')"
   ]
  },
  {
   "cell_type": "markdown",
   "metadata": {},
   "source": [
    "#### Setting up directories"
   ]
  },
  {
   "cell_type": "code",
   "execution_count": 19,
   "metadata": {},
   "outputs": [],
   "source": [
    "# Create directories if not exist\n",
    "\n",
    "import os\n",
    "\n",
    "directories = ['temp', 'data', 'output', 'logs']\n",
    "for directory in directories:\n",
    "    try:\n",
    "        if not os.path.exists(directory):\n",
    "           os.makedirs(directory)\n",
    "           logging.info('Created Folder -'+directory)\n",
    "        else:\n",
    "            logging.info('Folder Exists %s', directory)\n",
    "    except:\n",
    "        logging.error(directory)"
   ]
  },
  {
   "cell_type": "markdown",
   "metadata": {},
   "source": [
    "#### Download data from URL"
   ]
  },
  {
   "cell_type": "code",
   "execution_count": 20,
   "metadata": {},
   "outputs": [],
   "source": [
    "#Downloading data from the URL\n",
    "\n",
    "import requests\n",
    "\n",
    "URL = 'https://elasticbeanstalk-us-east-2-340729127361.s3.us-east-2.amazonaws.com/prices.zip'\n",
    "logging.info('Download Started')\n",
    "try:\n",
    "    response = requests.get(URL)\n",
    "    response.raise_for_status()  # Check for HTTP errors\n",
    "    with open(os.path.join(base_directory+'\\\\temp', 'prices.zip'), 'wb') as zip_file:\n",
    "            zip_file.write(response.content)\n",
    "    logging.info('Download Completed')\n",
    "except Exception as e:\n",
    "    logging.error(f'Error during download and extraction: {e}')"
   ]
  },
  {
   "cell_type": "markdown",
   "metadata": {},
   "source": [
    "#### Extract Data"
   ]
  },
  {
   "cell_type": "code",
   "execution_count": 21,
   "metadata": {},
   "outputs": [],
   "source": [
    "#Extacting the Data\n",
    "\n",
    "import zipfile\n",
    "logging.info('Extracting Zipfile')\n",
    "try:\n",
    "    with zipfile.ZipFile(base_directory+'\\\\temp\\\\prices.zip', 'r') as zip_ref:\n",
    "        zip_ref.extractall(base_directory+'\\data')\n",
    "        logging.info('Extraction Completed')\n",
    "except zipfile.BadZipFile:\n",
    "    logging.error('Not a zip file or a corrupted zip file')"
   ]
  },
  {
   "cell_type": "markdown",
   "metadata": {},
   "source": [
    "#### Integrate data from files into a common Pandas DataFrame."
   ]
  },
  {
   "cell_type": "code",
   "execution_count": 22,
   "metadata": {},
   "outputs": [
    {
     "name": "stdout",
     "output_type": "stream",
     "text": [
      "None\n"
     ]
    }
   ],
   "source": [
    "#Integrate data into Pandas\n",
    "\n",
    "import pandas as pd\n",
    "\n",
    "\n",
    "file_directory = base_directory+'\\data' # Specify the directory containing CSV files\n",
    "zero_dataframe = pd.DataFrame() #Empty Dataframe to store all data\n",
    "\n",
    "logging.info('Loading Data in DATAFRAME')\n",
    "\n",
    "try:\n",
    "    #CSV Files\n",
    "    print(logging.info('CSV data transformation to dataframe Started'))\n",
    "    files = [file for file in os.listdir(file_directory) if file.endswith('.csv')] # List all CSV files in the directory\n",
    "\n",
    "    # Load each CSV file into Pandas DataFrame and concatenate them\n",
    "    for file in files:\n",
    "        file_path = os.path.join(file_directory, file)\n",
    "        df = pd.read_csv(file_path)\n",
    "        zero_dataframe = pd.concat([zero_dataframe, df], ignore_index=True)\n",
    "    logging.info('CSV data transformation to dataframe Completed')\n",
    "\n",
    "    #JSON FILE\n",
    "    logging.info('JSON data transformation to dataframe Started')\n",
    "    files = [file for file in os.listdir(file_directory) if file.endswith('.json')] # List all CSV files in the directory\n",
    "    \n",
    "    # Load each JSON file into Pandas DataFrame and concatenate them\n",
    "    for file in files:\n",
    "        file_path = os.path.join(file_directory, file)\n",
    "        df = pd.read_json(file_path, lines=True)\n",
    "        zero_dataframe = pd.concat([zero_dataframe, df], ignore_index=True)\n",
    "    logging.info('JSON data transformation to dataframe Completed')\n",
    "    \n",
    "\n",
    "    #XML FILE\n",
    "    logging.info('XML data transformation to dataframe Started')\n",
    "    files = [file for file in os.listdir(file_directory) if file.endswith('.xml')] # List all CSV files in the directory\n",
    "    \n",
    "    # Load each XML file into Pandas DataFrame and concatenate them\n",
    "    for file in files:\n",
    "        file_path = os.path.join(file_directory, file)\n",
    "        df = pd.read_xml(file_path)\n",
    "        zero_dataframe = pd.concat([zero_dataframe, df], ignore_index=True)\n",
    "    logging.info('XML data transformation to dataframe Completed')\n",
    "\n",
    "except Exception as e:\n",
    "# Display the combined DataFrame\n",
    "    logging.error(e)"
   ]
  },
  {
   "cell_type": "markdown",
   "metadata": {},
   "source": [
    "#### Double the price and round up to 2 decimal points"
   ]
  },
  {
   "cell_type": "code",
   "execution_count": 23,
   "metadata": {},
   "outputs": [],
   "source": [
    "try:\n",
    "    logging.info('Double the price and round up to 2 decimal points Started')\n",
    "    zero_dataframe['price'] = (zero_dataframe.price*2).round(2)\n",
    "    logging.info('Double the price and round up to 2 decimal points Completed')\n",
    "except Exception as e:\n",
    "    logging.error(e)"
   ]
  },
  {
   "cell_type": "code",
   "execution_count": 24,
   "metadata": {},
   "outputs": [
    {
     "data": {
      "text/html": [
       "<div>\n",
       "<style scoped>\n",
       "    .dataframe tbody tr th:only-of-type {\n",
       "        vertical-align: middle;\n",
       "    }\n",
       "\n",
       "    .dataframe tbody tr th {\n",
       "        vertical-align: top;\n",
       "    }\n",
       "\n",
       "    .dataframe thead th {\n",
       "        text-align: right;\n",
       "    }\n",
       "</style>\n",
       "<table border=\"1\" class=\"dataframe\">\n",
       "  <thead>\n",
       "    <tr style=\"text-align: right;\">\n",
       "      <th></th>\n",
       "      <th>car_model</th>\n",
       "      <th>year_of_manufacture</th>\n",
       "      <th>price</th>\n",
       "      <th>fuel</th>\n",
       "    </tr>\n",
       "  </thead>\n",
       "  <tbody>\n",
       "    <tr>\n",
       "      <th>0</th>\n",
       "      <td>ritz</td>\n",
       "      <td>2014</td>\n",
       "      <td>10000.00</td>\n",
       "      <td>Petrol</td>\n",
       "    </tr>\n",
       "    <tr>\n",
       "      <th>1</th>\n",
       "      <td>sx4</td>\n",
       "      <td>2013</td>\n",
       "      <td>14179.10</td>\n",
       "      <td>Diesel</td>\n",
       "    </tr>\n",
       "    <tr>\n",
       "      <th>2</th>\n",
       "      <td>ciaz</td>\n",
       "      <td>2017</td>\n",
       "      <td>21641.79</td>\n",
       "      <td>Petrol</td>\n",
       "    </tr>\n",
       "    <tr>\n",
       "      <th>3</th>\n",
       "      <td>wagon r</td>\n",
       "      <td>2011</td>\n",
       "      <td>8507.46</td>\n",
       "      <td>Petrol</td>\n",
       "    </tr>\n",
       "    <tr>\n",
       "      <th>4</th>\n",
       "      <td>swift</td>\n",
       "      <td>2014</td>\n",
       "      <td>13731.34</td>\n",
       "      <td>Diesel</td>\n",
       "    </tr>\n",
       "    <tr>\n",
       "      <th>...</th>\n",
       "      <td>...</td>\n",
       "      <td>...</td>\n",
       "      <td>...</td>\n",
       "      <td>...</td>\n",
       "    </tr>\n",
       "    <tr>\n",
       "      <th>85</th>\n",
       "      <td>camry</td>\n",
       "      <td>2006</td>\n",
       "      <td>7462.69</td>\n",
       "      <td>Petrol</td>\n",
       "    </tr>\n",
       "    <tr>\n",
       "      <th>86</th>\n",
       "      <td>land cruiser</td>\n",
       "      <td>2010</td>\n",
       "      <td>104477.61</td>\n",
       "      <td>Diesel</td>\n",
       "    </tr>\n",
       "    <tr>\n",
       "      <th>87</th>\n",
       "      <td>corolla altis</td>\n",
       "      <td>2012</td>\n",
       "      <td>17611.94</td>\n",
       "      <td>Petrol</td>\n",
       "    </tr>\n",
       "    <tr>\n",
       "      <th>88</th>\n",
       "      <td>etios liva</td>\n",
       "      <td>2013</td>\n",
       "      <td>10298.51</td>\n",
       "      <td>Petrol</td>\n",
       "    </tr>\n",
       "    <tr>\n",
       "      <th>89</th>\n",
       "      <td>etios g</td>\n",
       "      <td>2014</td>\n",
       "      <td>14179.10</td>\n",
       "      <td>Petrol</td>\n",
       "    </tr>\n",
       "  </tbody>\n",
       "</table>\n",
       "<p>90 rows × 4 columns</p>\n",
       "</div>"
      ],
      "text/plain": [
       "        car_model  year_of_manufacture      price    fuel\n",
       "0            ritz                 2014   10000.00  Petrol\n",
       "1             sx4                 2013   14179.10  Diesel\n",
       "2            ciaz                 2017   21641.79  Petrol\n",
       "3         wagon r                 2011    8507.46  Petrol\n",
       "4           swift                 2014   13731.34  Diesel\n",
       "..            ...                  ...        ...     ...\n",
       "85          camry                 2006    7462.69  Petrol\n",
       "86   land cruiser                 2010  104477.61  Diesel\n",
       "87  corolla altis                 2012   17611.94  Petrol\n",
       "88     etios liva                 2013   10298.51  Petrol\n",
       "89        etios g                 2014   14179.10  Petrol\n",
       "\n",
       "[90 rows x 4 columns]"
      ]
     },
     "execution_count": 24,
     "metadata": {},
     "output_type": "execute_result"
    }
   ],
   "source": [
    "zero_dataframe"
   ]
  },
  {
   "cell_type": "markdown",
   "metadata": {},
   "source": [
    "#### Store dataframe to CSV"
   ]
  },
  {
   "cell_type": "code",
   "execution_count": 25,
   "metadata": {},
   "outputs": [],
   "source": [
    "#Store dataframe to CSV\n",
    "\n",
    "try:\n",
    "    logging.info('Converting dataframe to CSV Started')\n",
    "    zero_dataframe.to_csv(base_directory+'\\output\\output.csv', index=False)\n",
    "    logging.info('Converting dataframe to CSV Completed')\n",
    "\n",
    "except Exception as e:\n",
    "    logging.error('Error %s',e)\n",
    "\n",
    "logging.info('ETL process Completed')\n",
    "logging.shutdown()"
   ]
  }
 ],
 "metadata": {
  "kernelspec": {
   "display_name": "base",
   "language": "python",
   "name": "python3"
  },
  "language_info": {
   "codemirror_mode": {
    "name": "ipython",
    "version": 3
   },
   "file_extension": ".py",
   "mimetype": "text/x-python",
   "name": "python",
   "nbconvert_exporter": "python",
   "pygments_lexer": "ipython3",
   "version": "3.11.5"
  }
 },
 "nbformat": 4,
 "nbformat_minor": 2
}
