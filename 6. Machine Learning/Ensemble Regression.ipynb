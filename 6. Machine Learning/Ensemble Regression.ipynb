{
 "cells": [
  {
   "cell_type": "markdown",
   "metadata": {},
   "source": [
    "# Report of Lab 5: Ensembles\n",
    "### By “Aseem Shaikh - 3177031”"
   ]
  },
  {
   "cell_type": "markdown",
   "metadata": {},
   "source": [
    "### Introduction: \n",
    "#### In this lab exercise, we delve into ensemble learning, a powerful technique that combines strength of multiple models to improve predictive performance. Ensemble methods are effective in reducing variance, bias, and improving overall model accuracy. In this lab, we will explore three widely used tree-based ensemble models: Random Forest, Gradient Boosting, and AdaBoost classifiers. Review results and identify the best model.\n",
    "#### Link for dataset [Titanic Dataset](https://openml.org/search?type=data&status=active&id=40945&sort=runs)"
   ]
  },
  {
   "cell_type": "markdown",
   "metadata": {},
   "source": [
    "### Importing libraries"
   ]
  },
  {
   "cell_type": "code",
   "execution_count": 1,
   "metadata": {},
   "outputs": [],
   "source": [
    "#importing dataset\n",
    "\n",
    "import pandas as pd\n",
    "import numpy as np\n",
    "from matplotlib import pyplot as plt\n",
    "import seaborn as sns\n",
    "from sklearn.preprocessing import LabelEncoder\n",
    "from sklearn.model_selection import train_test_split\n",
    "from sklearn.ensemble import RandomForestClassifier, GradientBoostingClassifier, AdaBoostClassifier\n",
    "from sklearn.metrics import classification_report, confusion_matrix, accuracy_score\n",
    "from time import time"
   ]
  },
  {
   "cell_type": "markdown",
   "metadata": {},
   "source": [
    "### Loading the Dataset"
   ]
  },
  {
   "cell_type": "code",
   "execution_count": 2,
   "metadata": {},
   "outputs": [
    {
     "data": {
      "text/html": [
       "<div>\n",
       "<style scoped>\n",
       "    .dataframe tbody tr th:only-of-type {\n",
       "        vertical-align: middle;\n",
       "    }\n",
       "\n",
       "    .dataframe tbody tr th {\n",
       "        vertical-align: top;\n",
       "    }\n",
       "\n",
       "    .dataframe thead th {\n",
       "        text-align: right;\n",
       "    }\n",
       "</style>\n",
       "<table border=\"1\" class=\"dataframe\">\n",
       "  <thead>\n",
       "    <tr style=\"text-align: right;\">\n",
       "      <th></th>\n",
       "      <th>pclass</th>\n",
       "      <th>survived</th>\n",
       "      <th>name</th>\n",
       "      <th>sex</th>\n",
       "      <th>age</th>\n",
       "      <th>sibsp</th>\n",
       "      <th>parch</th>\n",
       "      <th>ticket</th>\n",
       "      <th>fare</th>\n",
       "      <th>cabin</th>\n",
       "      <th>embarked</th>\n",
       "      <th>boat</th>\n",
       "      <th>body</th>\n",
       "      <th>home.dest</th>\n",
       "    </tr>\n",
       "  </thead>\n",
       "  <tbody>\n",
       "    <tr>\n",
       "      <th>0</th>\n",
       "      <td>1</td>\n",
       "      <td>1</td>\n",
       "      <td>Allen, Miss. Elisabeth Walton</td>\n",
       "      <td>female</td>\n",
       "      <td>29</td>\n",
       "      <td>0</td>\n",
       "      <td>0</td>\n",
       "      <td>24160</td>\n",
       "      <td>211.3375</td>\n",
       "      <td>B5</td>\n",
       "      <td>S</td>\n",
       "      <td>2</td>\n",
       "      <td>?</td>\n",
       "      <td>St Louis, MO</td>\n",
       "    </tr>\n",
       "    <tr>\n",
       "      <th>1</th>\n",
       "      <td>1</td>\n",
       "      <td>1</td>\n",
       "      <td>Allison, Master. Hudson Trevor</td>\n",
       "      <td>male</td>\n",
       "      <td>0.9167</td>\n",
       "      <td>1</td>\n",
       "      <td>2</td>\n",
       "      <td>113781</td>\n",
       "      <td>151.55</td>\n",
       "      <td>C22 C26</td>\n",
       "      <td>S</td>\n",
       "      <td>11</td>\n",
       "      <td>?</td>\n",
       "      <td>Montreal, PQ / Chesterville, ON</td>\n",
       "    </tr>\n",
       "    <tr>\n",
       "      <th>2</th>\n",
       "      <td>1</td>\n",
       "      <td>0</td>\n",
       "      <td>Allison, Miss. Helen Loraine</td>\n",
       "      <td>female</td>\n",
       "      <td>2</td>\n",
       "      <td>1</td>\n",
       "      <td>2</td>\n",
       "      <td>113781</td>\n",
       "      <td>151.55</td>\n",
       "      <td>C22 C26</td>\n",
       "      <td>S</td>\n",
       "      <td>?</td>\n",
       "      <td>?</td>\n",
       "      <td>Montreal, PQ / Chesterville, ON</td>\n",
       "    </tr>\n",
       "    <tr>\n",
       "      <th>3</th>\n",
       "      <td>1</td>\n",
       "      <td>0</td>\n",
       "      <td>Allison, Mr. Hudson Joshua Creighton</td>\n",
       "      <td>male</td>\n",
       "      <td>30</td>\n",
       "      <td>1</td>\n",
       "      <td>2</td>\n",
       "      <td>113781</td>\n",
       "      <td>151.55</td>\n",
       "      <td>C22 C26</td>\n",
       "      <td>S</td>\n",
       "      <td>?</td>\n",
       "      <td>135</td>\n",
       "      <td>Montreal, PQ / Chesterville, ON</td>\n",
       "    </tr>\n",
       "    <tr>\n",
       "      <th>4</th>\n",
       "      <td>1</td>\n",
       "      <td>0</td>\n",
       "      <td>Allison, Mrs. Hudson J C (Bessie Waldo Daniels)</td>\n",
       "      <td>female</td>\n",
       "      <td>25</td>\n",
       "      <td>1</td>\n",
       "      <td>2</td>\n",
       "      <td>113781</td>\n",
       "      <td>151.55</td>\n",
       "      <td>C22 C26</td>\n",
       "      <td>S</td>\n",
       "      <td>?</td>\n",
       "      <td>?</td>\n",
       "      <td>Montreal, PQ / Chesterville, ON</td>\n",
       "    </tr>\n",
       "  </tbody>\n",
       "</table>\n",
       "</div>"
      ],
      "text/plain": [
       "   pclass  survived                                             name     sex  \\\n",
       "0       1         1                    Allen, Miss. Elisabeth Walton  female   \n",
       "1       1         1                   Allison, Master. Hudson Trevor    male   \n",
       "2       1         0                     Allison, Miss. Helen Loraine  female   \n",
       "3       1         0             Allison, Mr. Hudson Joshua Creighton    male   \n",
       "4       1         0  Allison, Mrs. Hudson J C (Bessie Waldo Daniels)  female   \n",
       "\n",
       "      age  sibsp  parch  ticket      fare    cabin embarked boat body  \\\n",
       "0      29      0      0   24160  211.3375       B5        S    2    ?   \n",
       "1  0.9167      1      2  113781    151.55  C22 C26        S   11    ?   \n",
       "2       2      1      2  113781    151.55  C22 C26        S    ?    ?   \n",
       "3      30      1      2  113781    151.55  C22 C26        S    ?  135   \n",
       "4      25      1      2  113781    151.55  C22 C26        S    ?    ?   \n",
       "\n",
       "                         home.dest  \n",
       "0                     St Louis, MO  \n",
       "1  Montreal, PQ / Chesterville, ON  \n",
       "2  Montreal, PQ / Chesterville, ON  \n",
       "3  Montreal, PQ / Chesterville, ON  \n",
       "4  Montreal, PQ / Chesterville, ON  "
      ]
     },
     "execution_count": 2,
     "metadata": {},
     "output_type": "execute_result"
    }
   ],
   "source": [
    "#Fetching the dataset\n",
    "url = 'https://www.openml.org/data/get_csv/16826755/phpMYEkMl'  # Titanic dataset from openml.org\n",
    "titanic_df = pd.read_csv(url)\n",
    "titanic_df.head()"
   ]
  },
  {
   "cell_type": "markdown",
   "metadata": {},
   "source": [
    "### Explore the Dataset"
   ]
  },
  {
   "cell_type": "code",
   "execution_count": 3,
   "metadata": {},
   "outputs": [
    {
     "name": "stdout",
     "output_type": "stream",
     "text": [
      "<class 'pandas.core.frame.DataFrame'>\n",
      "RangeIndex: 1309 entries, 0 to 1308\n",
      "Data columns (total 14 columns):\n",
      " #   Column     Non-Null Count  Dtype \n",
      "---  ------     --------------  ----- \n",
      " 0   pclass     1309 non-null   int64 \n",
      " 1   survived   1309 non-null   int64 \n",
      " 2   name       1309 non-null   object\n",
      " 3   sex        1309 non-null   object\n",
      " 4   age        1309 non-null   object\n",
      " 5   sibsp      1309 non-null   int64 \n",
      " 6   parch      1309 non-null   int64 \n",
      " 7   ticket     1309 non-null   object\n",
      " 8   fare       1309 non-null   object\n",
      " 9   cabin      1309 non-null   object\n",
      " 10  embarked   1309 non-null   object\n",
      " 11  boat       1309 non-null   object\n",
      " 12  body       1309 non-null   object\n",
      " 13  home.dest  1309 non-null   object\n",
      "dtypes: int64(4), object(10)\n",
      "memory usage: 143.3+ KB\n"
     ]
    }
   ],
   "source": [
    "#Understanding dataset\n",
    "titanic_df.info()"
   ]
  },
  {
   "cell_type": "markdown",
   "metadata": {},
   "source": [
    "#### About the dataset: \n",
    "- pclass: Passenger class (1 = 1st, 2 = 2nd, or 3 = 3rd)\n",
    "- survived: Survival status (0 = No, 1 = Yes)\n",
    "- name: Name of the passenger\n",
    "- sex: Gender of the passenger\n",
    "- age: Age of the passenger\n",
    "- sibsp: Number of siblings/spouses aboard the Titanic\n",
    "- parch: Number of parents/children aboard the Titanic\n",
    "- ticket: Ticket number\n",
    "- fare: Passenger fare\n",
    "- cabin: Cabin number\n",
    "- embarked: Port of embarkation (C = Cherbourg, Q = Queenstown, S = Southampton)\n",
    "- boat: Lifeboat number\n",
    "- body: Body identification number\n",
    "- home.dest: Home/Destination\n",
    "#### Missing values are shown with '?'"
   ]
  },
  {
   "cell_type": "code",
   "execution_count": 4,
   "metadata": {},
   "outputs": [
    {
     "data": {
      "image/png": "[encoded data removed]",
      "text/plain": [
       "<Figure size 640x480 with 1 Axes>"
      ]
     },
     "metadata": {},
     "output_type": "display_data"
    }
   ],
   "source": [
    "#Draw a pie chart for survived.\n",
    "\n",
    "plt.pie(titanic_df['survived'].value_counts(), labels=['not-survived', 'survived'], autopct='%1.0f%%')\n",
    "plt.title('People Survived')\n",
    "plt.show()"
   ]
  },
  {
   "cell_type": "code",
   "execution_count": 5,
   "metadata": {},
   "outputs": [
    {
     "name": "stdout",
     "output_type": "stream",
     "text": [
      "Missing values count before updating: \n",
      " pclass       0\n",
      "survived     0\n",
      "name         0\n",
      "sex          0\n",
      "age          0\n",
      "sibsp        0\n",
      "parch        0\n",
      "ticket       0\n",
      "fare         0\n",
      "cabin        0\n",
      "embarked     0\n",
      "boat         0\n",
      "body         0\n",
      "home.dest    0\n",
      "dtype: int64\n",
      "Missing values count After updating: \n",
      " pclass          0\n",
      "survived        0\n",
      "name            0\n",
      "sex             0\n",
      "age           263\n",
      "sibsp           0\n",
      "parch           0\n",
      "ticket          0\n",
      "fare            1\n",
      "cabin        1014\n",
      "embarked        2\n",
      "boat          823\n",
      "body         1188\n",
      "home.dest     564\n",
      "dtype: int64\n"
     ]
    }
   ],
   "source": [
    "#Converting the missing values. \n",
    "print('Missing values count before updating: \\n', titanic_df.isnull().sum())\n",
    "titanic_df.replace('?', np.nan, inplace=True)\n",
    "print('Missing values count After updating: \\n', titanic_df.isnull().sum())"
   ]
  },
  {
   "cell_type": "markdown",
   "metadata": {},
   "source": [
    "### Data Cleanup"
   ]
  },
  {
   "cell_type": "code",
   "execution_count": 6,
   "metadata": {},
   "outputs": [
    {
     "data": {
      "text/html": [
       "<div>\n",
       "<style scoped>\n",
       "    .dataframe tbody tr th:only-of-type {\n",
       "        vertical-align: middle;\n",
       "    }\n",
       "\n",
       "    .dataframe tbody tr th {\n",
       "        vertical-align: top;\n",
       "    }\n",
       "\n",
       "    .dataframe thead th {\n",
       "        text-align: right;\n",
       "    }\n",
       "</style>\n",
       "<table border=\"1\" class=\"dataframe\">\n",
       "  <thead>\n",
       "    <tr style=\"text-align: right;\">\n",
       "      <th></th>\n",
       "      <th>pclass</th>\n",
       "      <th>survived</th>\n",
       "      <th>sex</th>\n",
       "      <th>age</th>\n",
       "      <th>sibsp</th>\n",
       "      <th>parch</th>\n",
       "      <th>fare</th>\n",
       "      <th>embarked</th>\n",
       "    </tr>\n",
       "  </thead>\n",
       "  <tbody>\n",
       "    <tr>\n",
       "      <th>0</th>\n",
       "      <td>1</td>\n",
       "      <td>1</td>\n",
       "      <td>female</td>\n",
       "      <td>29</td>\n",
       "      <td>0</td>\n",
       "      <td>0</td>\n",
       "      <td>211.3375</td>\n",
       "      <td>S</td>\n",
       "    </tr>\n",
       "    <tr>\n",
       "      <th>1</th>\n",
       "      <td>1</td>\n",
       "      <td>1</td>\n",
       "      <td>male</td>\n",
       "      <td>0.9167</td>\n",
       "      <td>1</td>\n",
       "      <td>2</td>\n",
       "      <td>151.55</td>\n",
       "      <td>S</td>\n",
       "    </tr>\n",
       "    <tr>\n",
       "      <th>2</th>\n",
       "      <td>1</td>\n",
       "      <td>0</td>\n",
       "      <td>female</td>\n",
       "      <td>2</td>\n",
       "      <td>1</td>\n",
       "      <td>2</td>\n",
       "      <td>151.55</td>\n",
       "      <td>S</td>\n",
       "    </tr>\n",
       "    <tr>\n",
       "      <th>3</th>\n",
       "      <td>1</td>\n",
       "      <td>0</td>\n",
       "      <td>male</td>\n",
       "      <td>30</td>\n",
       "      <td>1</td>\n",
       "      <td>2</td>\n",
       "      <td>151.55</td>\n",
       "      <td>S</td>\n",
       "    </tr>\n",
       "    <tr>\n",
       "      <th>4</th>\n",
       "      <td>1</td>\n",
       "      <td>0</td>\n",
       "      <td>female</td>\n",
       "      <td>25</td>\n",
       "      <td>1</td>\n",
       "      <td>2</td>\n",
       "      <td>151.55</td>\n",
       "      <td>S</td>\n",
       "    </tr>\n",
       "  </tbody>\n",
       "</table>\n",
       "</div>"
      ],
      "text/plain": [
       "   pclass  survived     sex     age  sibsp  parch      fare embarked\n",
       "0       1         1  female      29      0      0  211.3375        S\n",
       "1       1         1    male  0.9167      1      2    151.55        S\n",
       "2       1         0  female       2      1      2    151.55        S\n",
       "3       1         0    male      30      1      2    151.55        S\n",
       "4       1         0  female      25      1      2    151.55        S"
      ]
     },
     "execution_count": 6,
     "metadata": {},
     "output_type": "execute_result"
    }
   ],
   "source": [
    "#Removing features not important for the target.\n",
    "titanic_df_1 = titanic_df.copy()\n",
    "titanic_df_1.drop(columns=[\"name\", \"ticket\", \"cabin\", \"boat\", \"body\", \"home.dest\"], axis=1, inplace=True)\n",
    "titanic_df_1.head()"
   ]
  },
  {
   "cell_type": "markdown",
   "metadata": {},
   "source": [
    "### Handing Missing Value"
   ]
  },
  {
   "cell_type": "code",
   "execution_count": 7,
   "metadata": {},
   "outputs": [],
   "source": [
    "#Handling missing values Row\n",
    "\n",
    "titanic_df_1['age'] = titanic_df_1['age'].astype('float')\n",
    "titanic_df_1['fare'] = titanic_df_1['fare'].astype('float')\n",
    "\n",
    "titanic_df_1[\"age\"].fillna(titanic_df_1[\"age\"].median(), inplace=True)\n",
    "titanic_df_1[\"fare\"].fillna(titanic_df_1[\"fare\"].median(), inplace=True)\n",
    "titanic_df_1[\"embarked\"].fillna(titanic_df_1[\"embarked\"].mode()[0], inplace=True)"
   ]
  },
  {
   "cell_type": "markdown",
   "metadata": {},
   "source": [
    "### Reviewing Outliers"
   ]
  },
  {
   "cell_type": "code",
   "execution_count": 8,
   "metadata": {},
   "outputs": [
    {
     "data": {
      "text/plain": [
       "<Axes: >"
      ]
     },
     "execution_count": 8,
     "metadata": {},
     "output_type": "execute_result"
    },
    {
     "data": {
      "image/png": "[encoded data removed]",
      "text/plain": [
       "<Figure size 640x480 with 1 Axes>"
      ]
     },
     "metadata": {},
     "output_type": "display_data"
    }
   ],
   "source": [
    "#outliers\n",
    "sns.boxplot(titanic_df_1)"
   ]
  },
  {
   "cell_type": "code",
   "execution_count": 9,
   "metadata": {},
   "outputs": [
    {
     "data": {
      "text/plain": [
       "sibsp  parch  fare     age \n",
       "0      0      7.7500   28.0    32\n",
       "              8.0500   28.0    23\n",
       "              7.8958   28.0    22\n",
       "              7.2292   28.0    11\n",
       "              0.0000   28.0     9\n",
       "                               ..\n",
       "              26.0000  25.0     1\n",
       "                       27.0     1\n",
       "                       30.0     1\n",
       "                       35.0     1\n",
       "              78.8500  26.0     1\n",
       "Name: count, Length: 1003, dtype: int64"
      ]
     },
     "execution_count": 9,
     "metadata": {},
     "output_type": "execute_result"
    }
   ],
   "source": [
    "titanic_df_1[['sibsp','parch', 'fare', 'age']].value_counts()"
   ]
  },
  {
   "cell_type": "markdown",
   "metadata": {},
   "source": [
    "### Removing outliers from sibsp and parch columns"
   ]
  },
  {
   "cell_type": "code",
   "execution_count": 10,
   "metadata": {},
   "outputs": [
    {
     "data": {
      "text/plain": [
       "(1228, 8)"
      ]
     },
     "execution_count": 10,
     "metadata": {},
     "output_type": "execute_result"
    }
   ],
   "source": [
    "#Removing Outliers\n",
    "titanic_df_1 = titanic_df_1[(titanic_df['sibsp'] < 3) & (titanic_df['parch'] < 3)] \n",
    "titanic_df_1.shape"
   ]
  },
  {
   "cell_type": "markdown",
   "metadata": {},
   "source": [
    "### Feature Encoding"
   ]
  },
  {
   "cell_type": "code",
   "execution_count": 11,
   "metadata": {},
   "outputs": [],
   "source": [
    "#Convert categorical data to numerical\n",
    "le = LabelEncoder()\n",
    "titanic_df_1[\"sex\"] = le.fit_transform(titanic_df_1[\"sex\"])\n",
    "titanic_df_1[\"embarked\"] = le.fit_transform(titanic_df_1[\"embarked\"])"
   ]
  },
  {
   "cell_type": "code",
   "execution_count": 12,
   "metadata": {},
   "outputs": [
    {
     "data": {
      "text/html": [
       "<div>\n",
       "<style scoped>\n",
       "    .dataframe tbody tr th:only-of-type {\n",
       "        vertical-align: middle;\n",
       "    }\n",
       "\n",
       "    .dataframe tbody tr th {\n",
       "        vertical-align: top;\n",
       "    }\n",
       "\n",
       "    .dataframe thead th {\n",
       "        text-align: right;\n",
       "    }\n",
       "</style>\n",
       "<table border=\"1\" class=\"dataframe\">\n",
       "  <thead>\n",
       "    <tr style=\"text-align: right;\">\n",
       "      <th></th>\n",
       "      <th>count</th>\n",
       "      <th>mean</th>\n",
       "      <th>std</th>\n",
       "      <th>min</th>\n",
       "      <th>25%</th>\n",
       "      <th>50%</th>\n",
       "      <th>75%</th>\n",
       "      <th>max</th>\n",
       "    </tr>\n",
       "  </thead>\n",
       "  <tbody>\n",
       "    <tr>\n",
       "      <th>pclass</th>\n",
       "      <td>1228.0</td>\n",
       "      <td>2.264658</td>\n",
       "      <td>0.841558</td>\n",
       "      <td>1.0000</td>\n",
       "      <td>1.0000</td>\n",
       "      <td>3.0</td>\n",
       "      <td>3.0</td>\n",
       "      <td>3.0000</td>\n",
       "    </tr>\n",
       "    <tr>\n",
       "      <th>survived</th>\n",
       "      <td>1228.0</td>\n",
       "      <td>0.394137</td>\n",
       "      <td>0.488864</td>\n",
       "      <td>0.0000</td>\n",
       "      <td>0.0000</td>\n",
       "      <td>0.0</td>\n",
       "      <td>1.0</td>\n",
       "      <td>1.0000</td>\n",
       "    </tr>\n",
       "    <tr>\n",
       "      <th>sex</th>\n",
       "      <td>1228.0</td>\n",
       "      <td>0.653909</td>\n",
       "      <td>0.475917</td>\n",
       "      <td>0.0000</td>\n",
       "      <td>0.0000</td>\n",
       "      <td>1.0</td>\n",
       "      <td>1.0</td>\n",
       "      <td>1.0000</td>\n",
       "    </tr>\n",
       "    <tr>\n",
       "      <th>age</th>\n",
       "      <td>1228.0</td>\n",
       "      <td>29.969191</td>\n",
       "      <td>12.552937</td>\n",
       "      <td>0.1667</td>\n",
       "      <td>23.0000</td>\n",
       "      <td>28.0</td>\n",
       "      <td>35.0</td>\n",
       "      <td>80.0000</td>\n",
       "    </tr>\n",
       "    <tr>\n",
       "      <th>sibsp</th>\n",
       "      <td>1228.0</td>\n",
       "      <td>0.312704</td>\n",
       "      <td>0.530966</td>\n",
       "      <td>0.0000</td>\n",
       "      <td>0.0000</td>\n",
       "      <td>0.0</td>\n",
       "      <td>1.0</td>\n",
       "      <td>2.0000</td>\n",
       "    </tr>\n",
       "    <tr>\n",
       "      <th>parch</th>\n",
       "      <td>1228.0</td>\n",
       "      <td>0.250000</td>\n",
       "      <td>0.561063</td>\n",
       "      <td>0.0000</td>\n",
       "      <td>0.0000</td>\n",
       "      <td>0.0</td>\n",
       "      <td>0.0</td>\n",
       "      <td>2.0000</td>\n",
       "    </tr>\n",
       "    <tr>\n",
       "      <th>fare</th>\n",
       "      <td>1228.0</td>\n",
       "      <td>31.603409</td>\n",
       "      <td>49.910012</td>\n",
       "      <td>0.0000</td>\n",
       "      <td>7.8958</td>\n",
       "      <td>13.0</td>\n",
       "      <td>29.0</td>\n",
       "      <td>512.3292</td>\n",
       "    </tr>\n",
       "    <tr>\n",
       "      <th>embarked</th>\n",
       "      <td>1228.0</td>\n",
       "      <td>1.469870</td>\n",
       "      <td>0.827347</td>\n",
       "      <td>0.0000</td>\n",
       "      <td>1.0000</td>\n",
       "      <td>2.0</td>\n",
       "      <td>2.0</td>\n",
       "      <td>2.0000</td>\n",
       "    </tr>\n",
       "  </tbody>\n",
       "</table>\n",
       "</div>"
      ],
      "text/plain": [
       "           count       mean        std     min      25%   50%   75%       max\n",
       "pclass    1228.0   2.264658   0.841558  1.0000   1.0000   3.0   3.0    3.0000\n",
       "survived  1228.0   0.394137   0.488864  0.0000   0.0000   0.0   1.0    1.0000\n",
       "sex       1228.0   0.653909   0.475917  0.0000   0.0000   1.0   1.0    1.0000\n",
       "age       1228.0  29.969191  12.552937  0.1667  23.0000  28.0  35.0   80.0000\n",
       "sibsp     1228.0   0.312704   0.530966  0.0000   0.0000   0.0   1.0    2.0000\n",
       "parch     1228.0   0.250000   0.561063  0.0000   0.0000   0.0   0.0    2.0000\n",
       "fare      1228.0  31.603409  49.910012  0.0000   7.8958  13.0  29.0  512.3292\n",
       "embarked  1228.0   1.469870   0.827347  0.0000   1.0000   2.0   2.0    2.0000"
      ]
     },
     "execution_count": 12,
     "metadata": {},
     "output_type": "execute_result"
    }
   ],
   "source": [
    "#Describe\n",
    "titanic_df_1.describe().T"
   ]
  },
  {
   "cell_type": "code",
   "execution_count": 13,
   "metadata": {},
   "outputs": [
    {
     "data": {
      "image/png": "[encoded data removed]",
      "text/plain": [
       "<Figure size 640x480 with 2 Axes>"
      ]
     },
     "metadata": {},
     "output_type": "display_data"
    }
   ],
   "source": [
    "#Identifying feature correlation\n",
    "\n",
    "sns.heatmap(titanic_df_1.corr(), annot=True, cmap='coolwarm')\n",
    "plt.title(\"Correlation Matrix\")\n",
    "plt.show()"
   ]
  },
  {
   "cell_type": "code",
   "execution_count": 14,
   "metadata": {},
   "outputs": [
    {
     "data": {
      "text/html": [
       "<div>\n",
       "<style scoped>\n",
       "    .dataframe tbody tr th:only-of-type {\n",
       "        vertical-align: middle;\n",
       "    }\n",
       "\n",
       "    .dataframe tbody tr th {\n",
       "        vertical-align: top;\n",
       "    }\n",
       "\n",
       "    .dataframe thead th {\n",
       "        text-align: right;\n",
       "    }\n",
       "</style>\n",
       "<table border=\"1\" class=\"dataframe\">\n",
       "  <thead>\n",
       "    <tr style=\"text-align: right;\">\n",
       "      <th></th>\n",
       "      <th>pclass</th>\n",
       "      <th>survived</th>\n",
       "      <th>sex</th>\n",
       "      <th>age</th>\n",
       "      <th>sibsp</th>\n",
       "      <th>parch</th>\n",
       "      <th>fare</th>\n",
       "      <th>embarked</th>\n",
       "    </tr>\n",
       "  </thead>\n",
       "  <tbody>\n",
       "    <tr>\n",
       "      <th>0</th>\n",
       "      <td>1</td>\n",
       "      <td>1</td>\n",
       "      <td>0</td>\n",
       "      <td>29.0000</td>\n",
       "      <td>0</td>\n",
       "      <td>0</td>\n",
       "      <td>211.3375</td>\n",
       "      <td>2</td>\n",
       "    </tr>\n",
       "    <tr>\n",
       "      <th>1</th>\n",
       "      <td>1</td>\n",
       "      <td>1</td>\n",
       "      <td>1</td>\n",
       "      <td>0.9167</td>\n",
       "      <td>1</td>\n",
       "      <td>2</td>\n",
       "      <td>151.5500</td>\n",
       "      <td>2</td>\n",
       "    </tr>\n",
       "    <tr>\n",
       "      <th>2</th>\n",
       "      <td>1</td>\n",
       "      <td>0</td>\n",
       "      <td>0</td>\n",
       "      <td>2.0000</td>\n",
       "      <td>1</td>\n",
       "      <td>2</td>\n",
       "      <td>151.5500</td>\n",
       "      <td>2</td>\n",
       "    </tr>\n",
       "    <tr>\n",
       "      <th>3</th>\n",
       "      <td>1</td>\n",
       "      <td>0</td>\n",
       "      <td>1</td>\n",
       "      <td>30.0000</td>\n",
       "      <td>1</td>\n",
       "      <td>2</td>\n",
       "      <td>151.5500</td>\n",
       "      <td>2</td>\n",
       "    </tr>\n",
       "    <tr>\n",
       "      <th>4</th>\n",
       "      <td>1</td>\n",
       "      <td>0</td>\n",
       "      <td>0</td>\n",
       "      <td>25.0000</td>\n",
       "      <td>1</td>\n",
       "      <td>2</td>\n",
       "      <td>151.5500</td>\n",
       "      <td>2</td>\n",
       "    </tr>\n",
       "  </tbody>\n",
       "</table>\n",
       "</div>"
      ],
      "text/plain": [
       "   pclass  survived  sex      age  sibsp  parch      fare  embarked\n",
       "0       1         1    0  29.0000      0      0  211.3375         2\n",
       "1       1         1    1   0.9167      1      2  151.5500         2\n",
       "2       1         0    0   2.0000      1      2  151.5500         2\n",
       "3       1         0    1  30.0000      1      2  151.5500         2\n",
       "4       1         0    0  25.0000      1      2  151.5500         2"
      ]
     },
     "execution_count": 14,
     "metadata": {},
     "output_type": "execute_result"
    }
   ],
   "source": [
    "titanic_df_1.head()"
   ]
  },
  {
   "cell_type": "markdown",
   "metadata": {},
   "source": [
    "#### Spliting Data"
   ]
  },
  {
   "cell_type": "code",
   "execution_count": 15,
   "metadata": {},
   "outputs": [],
   "source": [
    "#Spliting data into training and test\n",
    "\n",
    "# Define features and target variable\n",
    "X = titanic_df_1.drop('survived', axis=1)\n",
    "y = titanic_df_1['survived']\n",
    "\n",
    "# Split the data\n",
    "X_train, X_test, y_train, y_test = train_test_split(X, y, test_size=0.3, random_state=123, stratify=y)\n",
    "feature_names = X_train.columns"
   ]
  },
  {
   "cell_type": "markdown",
   "metadata": {},
   "source": [
    "## Modeling"
   ]
  },
  {
   "cell_type": "markdown",
   "metadata": {},
   "source": [
    "### Decision Tree"
   ]
  },
  {
   "cell_type": "code",
   "execution_count": 16,
   "metadata": {},
   "outputs": [],
   "source": [
    "from sklearn.tree import DecisionTreeClassifier\n",
    "\n",
    "start_time = time()\n",
    "model = DecisionTreeClassifier( random_state=42)\n",
    "model.fit(X_train, y_train)\n",
    "y_pred = model.predict(X_test)\n",
    "total_time = time() - start_time "
   ]
  },
  {
   "cell_type": "code",
   "execution_count": 17,
   "metadata": {},
   "outputs": [
    {
     "name": "stdout",
     "output_type": "stream",
     "text": [
      "Report on Decision Tree Model\n",
      "Time to fit and predict 0.04934239387512207 sec\n",
      "Accuracy Score 0.7588075880758808\n",
      "Classifiction Report\n",
      "               precision    recall  f1-score   support\n",
      "\n",
      "           0       0.77      0.86      0.81       224\n",
      "           1       0.73      0.61      0.66       145\n",
      "\n",
      "    accuracy                           0.76       369\n",
      "   macro avg       0.75      0.73      0.74       369\n",
      "weighted avg       0.76      0.76      0.75       369\n",
      "\n",
      "Confusion Matrix\n",
      " [[192  32]\n",
      " [ 57  88]]\n"
     ]
    }
   ],
   "source": [
    "print(\"Report on Decision Tree Model\")\n",
    "print(f'Time to fit and predict {total_time} sec')\n",
    "print('Accuracy Score', accuracy_score(y_test, y_pred))\n",
    "print('Classifiction Report\\n', classification_report(y_test, y_pred))\n",
    "print('Confusion Matrix\\n', confusion_matrix(y_test, y_pred))"
   ]
  },
  {
   "cell_type": "code",
   "execution_count": 18,
   "metadata": {},
   "outputs": [
    {
     "data": {
      "image/png": "[encoded data removed]",
      "text/plain": [
       "<Figure size 640x480 with 1 Axes>"
      ]
     },
     "metadata": {},
     "output_type": "display_data"
    }
   ],
   "source": [
    "# feature importances\n",
    "importances = pd.Series(\n",
    "    model.feature_importances_, index=feature_names\n",
    ").sort_values(ascending=True).plot.barh()\n",
    "plt.title('Feature Importances (Decision Tree)')\n",
    "plt.show()"
   ]
  },
  {
   "cell_type": "markdown",
   "metadata": {},
   "source": [
    "### Brief Discussion on Decision Tree Model\n",
    "\n",
    "- The model took approximately 0.049 seconds to train and make predictions, making it the fastest among the models evaluated. This efficiency is particularly beneficial for applications requiring quick turnaround times.\n",
    "\n",
    "- The model achieved an accuracy of 0.759, indicating it correctly predicted the survival status of about 75.9% of the passengers in the test set. This accuracy is comparable to the AdaBoost model but slightly lower than the Random Forest and Gradient Boosting models.\n",
    "\n",
    "Classification Report:\n",
    "   - Precision, Recall, and F1-Score:\n",
    "     - For class 0 (Did not survive):\n",
    "       - Precision: 0.77 (77% of the predicted non-survivors were actual non-survivors)\n",
    "       - Recall: 0.86 (86% of the actual non-survivors were correctly identified)\n",
    "       - F1-Score: 0.81 (balance between precision and recall)\n",
    "     - For class 1 (Survived):\n",
    "       - Precision: 0.73 (73% of the predicted survivors were actual survivors)\n",
    "       - Recall: 0.61 (61% of the actual survivors were correctly identified)\n",
    "       - F1-Score: 0.66 (balance between precision and recall)\n",
    "\n",
    "   - The macro average F1-score of 0.74 and the weighted average F1-score of 0.75 reflect overall balanced performance across both classes.\n",
    "\n",
    "Confusion Matrix:\n",
    "   - The confusion matrix provides insights into the counts of true positives, true negatives, false positives, and false negatives:\n",
    "     - True Negatives (TN): 192 (correctly predicted non-survivors)\n",
    "     - False Positives (FP): 32 (incorrectly predicted survivors)\n",
    "     - False Negatives (FN): 57 (incorrectly predicted non-survivors)\n",
    "     - True Positives (TP): 88 (correctly predicted survivors)\n",
    "\n",
    "   - The model shows a higher true negative rate and a moderate true positive rate, with a notable number of false negatives."
   ]
  },
  {
   "cell_type": "markdown",
   "metadata": {},
   "source": [
    "### Random Forest"
   ]
  },
  {
   "cell_type": "code",
   "execution_count": 19,
   "metadata": {},
   "outputs": [],
   "source": [
    "start_time = time()\n",
    "model = RandomForestClassifier(n_estimators=100, random_state=42)\n",
    "model.fit(X_train, y_train)\n",
    "y_pred = model.predict(X_test)\n",
    "total_time = time() - start_time "
   ]
  },
  {
   "cell_type": "code",
   "execution_count": 20,
   "metadata": {},
   "outputs": [
    {
     "name": "stdout",
     "output_type": "stream",
     "text": [
      "Report on Random Forest Ensemble model\n",
      "Time to fit and predict 0.24530720710754395 sec\n",
      "Accuracy Score 0.7804878048780488\n",
      "Classifiction Report\n",
      "               precision    recall  f1-score   support\n",
      "\n",
      "           0       0.80      0.85      0.82       224\n",
      "           1       0.74      0.68      0.71       145\n",
      "\n",
      "    accuracy                           0.78       369\n",
      "   macro avg       0.77      0.76      0.77       369\n",
      "weighted avg       0.78      0.78      0.78       369\n",
      "\n",
      "Confusion Matrix\n",
      " [[190  34]\n",
      " [ 47  98]]\n"
     ]
    }
   ],
   "source": [
    "print(\"Report on Random Forest Ensemble model\")\n",
    "print(f'Time to fit and predict {total_time} sec')\n",
    "print('Accuracy Score', accuracy_score(y_test, y_pred))\n",
    "print('Classifiction Report\\n', classification_report(y_test, y_pred))\n",
    "print('Confusion Matrix\\n', confusion_matrix(y_test, y_pred))"
   ]
  },
  {
   "cell_type": "code",
   "execution_count": 21,
   "metadata": {},
   "outputs": [
    {
     "data": {
      "image/png": "[encoded data removed]",
      "text/plain": [
       "<Figure size 640x480 with 1 Axes>"
      ]
     },
     "metadata": {},
     "output_type": "display_data"
    }
   ],
   "source": [
    "# feature importances\n",
    "importances = pd.Series(\n",
    "    model.feature_importances_, index=feature_names\n",
    ").sort_values(ascending=True).plot.barh()\n",
    "plt.title('Feature Importances (Random Forest)')\n",
    "plt.show()"
   ]
  },
  {
   "cell_type": "markdown",
   "metadata": {},
   "source": [
    "### Brief on Random Forest\n",
    "- The model took approximately 0.266 seconds to fit the training data and make predictions on the test set. This indicates the model's efficiency and suitability for applications requiring quick training and prediction times.\n",
    "- The model achieved an accuracy of 0.780, meaning it correctly predicted the survival status of about 78% of the passengers in the test set. It suggests there is still room for improvement.\n",
    "\n",
    "Classification Report:\n",
    "   - Precision, Recall, and F1-Score:\n",
    "     - For class 0 (Did not survive):\n",
    "       - Precision: 0.80 (80% of the predicted non-survivors were actual non-survivors)\n",
    "       - Recall: 0.85 (85% of the actual non-survivors were correctly identified)\n",
    "       - F1-Score: 0.82 (balance between precision and recall)\n",
    "     - For class 1 (Survived):\n",
    "       - Precision: 0.74 (74% of the predicted survivors were actual survivors)\n",
    "       - Recall: 0.68 (68% of the actual survivors were correctly identified)\n",
    "       - F1-Score: 0.71 (balance between precision and recall)\n",
    "\n",
    "   - The macro average F1-score of 0.77 indicates balanced performance across both classes, while the weighted average F1-score of 0.78 reflects the overall performance considering the class distribution.\n",
    "\n",
    "Confusion Matrix\n",
    "   - The confusion matrix provides insights into the true positive, true negative, false positive, and false negative counts:\n",
    "     - True Negatives (TN): 190 (correctly predicted non-survivors)\n",
    "     - False Positives (FP): 34 (incorrectly predicted survivors)\n",
    "     - False Negatives (FN): 47 (incorrectly predicted non-survivors)\n",
    "     - True Positives (TP): 98 (correctly predicted survivors)\n",
    "   - The model has a higher true negative rate compared to the true positive rate, indicating better performance in identifying non-survivors than survivors."
   ]
  },
  {
   "cell_type": "markdown",
   "metadata": {},
   "source": [
    "### Gradiant Boosted"
   ]
  },
  {
   "cell_type": "code",
   "execution_count": 22,
   "metadata": {},
   "outputs": [],
   "source": [
    "start_time = time()\n",
    "model = GradientBoostingClassifier(n_estimators=100, random_state=42)\n",
    "model.fit(X_train, y_train)\n",
    "y_pred = model.predict(X_test)\n",
    "total_time = time() - start_time "
   ]
  },
  {
   "cell_type": "code",
   "execution_count": 23,
   "metadata": {},
   "outputs": [
    {
     "name": "stdout",
     "output_type": "stream",
     "text": [
      "Report on Gradiant Boosted Ensemble model\n",
      "Time to fit and predict 0.12676095962524414 sec\n",
      "Accuracy Score 0.7831978319783198\n",
      "Classifiction Report\n",
      "               precision    recall  f1-score   support\n",
      "\n",
      "           0       0.79      0.88      0.83       224\n",
      "           1       0.77      0.64      0.70       145\n",
      "\n",
      "    accuracy                           0.78       369\n",
      "   macro avg       0.78      0.76      0.76       369\n",
      "weighted avg       0.78      0.78      0.78       369\n",
      "\n",
      "Confusion Matrix\n",
      " [[196  28]\n",
      " [ 52  93]]\n"
     ]
    }
   ],
   "source": [
    "print(\"Report on Gradiant Boosted Ensemble model\")\n",
    "print(f'Time to fit and predict {total_time} sec')\n",
    "print('Accuracy Score', accuracy_score(y_test, y_pred))\n",
    "print('Classifiction Report\\n', classification_report(y_test, y_pred))\n",
    "print('Confusion Matrix\\n', confusion_matrix(y_test, y_pred))"
   ]
  },
  {
   "cell_type": "code",
   "execution_count": 24,
   "metadata": {},
   "outputs": [
    {
     "data": {
      "image/png": "[encoded data removed]",
      "text/plain": [
       "<Figure size 640x480 with 1 Axes>"
      ]
     },
     "metadata": {},
     "output_type": "display_data"
    }
   ],
   "source": [
    "# feature importances\n",
    "importances = pd.Series(\n",
    "    model.feature_importances_, index=feature_names\n",
    ").sort_values(ascending=True).plot.barh()\n",
    "plt.title('Feature Importances (Gradiant Boosted)')\n",
    "plt.show()"
   ]
  },
  {
   "cell_type": "markdown",
   "metadata": {},
   "source": [
    "### Brief on Gradiant Boosted\n",
    "- The model took approximately 0.185 seconds to train on the dataset and make predictions. This quick execution time highlights the model's efficiency, making it suitable for scenarios that require rapid training and inference.\n",
    "\n",
    "- The model achieved an accuracy of 0.783, indicating that it correctly predicted the survival status of about 78.3% of the passengers in the test set. This suggests a marginally better performance compared to the Random Forest model.\n",
    "\n",
    "Classification Report:\n",
    "   - Precision, Recall, and F1-Score:\n",
    "     - For class 0 (Did not survive):\n",
    "       - Precision: 0.79 (79% of the predicted non-survivors were actual non-survivors)\n",
    "       - Recall: 0.88 (88% of the actual non-survivors were correctly identified)\n",
    "       - F1-Score: 0.83 (balance between precision and recall)\n",
    "     - For class 1 (Survived):\n",
    "       - Precision: 0.77 (77% of the predicted survivors were actual survivors)\n",
    "       - Recall: 0.64 (64% of the actual survivors were correctly identified)\n",
    "       - F1-Score: 0.70 (balance between precision and recall)\n",
    "  \n",
    "  - The macro average F1-score of 0.76 and the weighted average F1-score of 0.78 indicate overall balanced performance across both classes.\n",
    "\n",
    "Confusion Matrix:\n",
    "   - The confusion matrix reveals the counts of true positives, true negatives, false positives, and false negatives:\n",
    "     - True Negatives (TN): 196 (correctly predicted non-survivors)\n",
    "     - False Positives (FP): 28 (incorrectly predicted survivors)\n",
    "     - False Negatives (FN): 52 (incorrectly predicted non-survivors)\n",
    "     - True Positives (TP): 93 (correctly predicted survivors)\n",
    "\n",
    "   - The model demonstrates a strong true negative rate, similar to the Random Forest model, but slightly lower performance in identifying true positives."
   ]
  },
  {
   "cell_type": "markdown",
   "metadata": {},
   "source": [
    "### Adaboost"
   ]
  },
  {
   "cell_type": "code",
   "execution_count": 25,
   "metadata": {},
   "outputs": [],
   "source": [
    "start_time = time()\n",
    "model = AdaBoostClassifier(n_estimators=100, random_state=42, algorithm='SAMME')\n",
    "model.fit(X_train, y_train)\n",
    "y_pred = model.predict(X_test)\n",
    "total_time = time() - start_time "
   ]
  },
  {
   "cell_type": "code",
   "execution_count": 26,
   "metadata": {},
   "outputs": [
    {
     "name": "stdout",
     "output_type": "stream",
     "text": [
      "Report on Adaboost Ensemble model\n",
      "Time to fit and predict 0.23502159118652344 sec\n",
      "Accuracy Score 0.7940379403794038\n",
      "Classifiction Report\n",
      "               precision    recall  f1-score   support\n",
      "\n",
      "           0       0.82      0.85      0.83       224\n",
      "           1       0.75      0.71      0.73       145\n",
      "\n",
      "    accuracy                           0.79       369\n",
      "   macro avg       0.79      0.78      0.78       369\n",
      "weighted avg       0.79      0.79      0.79       369\n",
      "\n",
      "Confusion Matrix\n",
      " [[190  34]\n",
      " [ 42 103]]\n"
     ]
    }
   ],
   "source": [
    "print(\"Report on Adaboost Ensemble model\")\n",
    "print(f'Time to fit and predict {total_time} sec')\n",
    "print('Accuracy Score', accuracy_score(y_test, y_pred))\n",
    "print('Classifiction Report\\n', classification_report(y_test, y_pred))\n",
    "print('Confusion Matrix\\n', confusion_matrix(y_test, y_pred))"
   ]
  },
  {
   "cell_type": "code",
   "execution_count": 27,
   "metadata": {},
   "outputs": [
    {
     "data": {
      "image/png": "[encoded data removed]",
      "text/plain": [
       "<Figure size 640x480 with 1 Axes>"
      ]
     },
     "metadata": {},
     "output_type": "display_data"
    }
   ],
   "source": [
    "# feature importances\n",
    "importances = pd.Series(\n",
    "    model.feature_importances_, index=feature_names\n",
    ").sort_values(ascending=True).plot.barh()\n",
    "plt.title('Feature Importances (Adaboost)')\n",
    "plt.show()"
   ]
  },
  {
   "cell_type": "markdown",
   "metadata": {},
   "source": [
    "### Brief on Adaboost\n",
    "- The model took approximately 0.206 seconds to train on the dataset and make predictions. This indicates the model's efficiency, though it is slightly slower compared to the Gradient Boosted model.\n",
    "\n",
    "- The model achieved an accuracy of 0.794, indicating that it correctly predicted the survival status of about 79.4% of the passengers in the test set. This accuracy is lower compared to both the Random Forest and Gradient Boosted models.\n",
    "\n",
    "Classification Report:\n",
    "   - Precision, Recall, and F1-Score:\n",
    "     - For class 0 (Did not survive):\n",
    "       - Precision: 0.82 (80% of the predicted non-survivors were actual non-survivors)\n",
    "       - Recall: 0.85 (82% of the actual non-survivors were correctly identified)\n",
    "       - F1-Score: 0.83 (balance between precision and recall)\n",
    "     - For class 1 (Survived):\n",
    "       - Precision: 0.75 (75% of the predicted survivors were actual survivors)\n",
    "       - Recall: 0.71 (71% of the actual survivors were correctly identified)\n",
    "       - F1-Score: 0.73 (balance between precision and recall)\n",
    "\n",
    "   - The macro average F1-score of 0.79 and the weighted average F1-score of 0.78 indicate balanced performance across both classes.\n",
    "\n",
    "Confusion Matrix:\n",
    "   - The confusion matrix reveals the counts of true positives, true negatives, false positives, and false negatives:\n",
    "     - True Negatives (TN): 190 (correctly predicted non-survivors)\n",
    "     - False Positives (FP): 34 (incorrectly predicted survivors)\n",
    "     - False Negatives (FN): 42 (incorrectly predicted non-survivors)\n",
    "     - True Positives (TP): 103 (correctly predicted survivors)\n",
    "\n",
    "   - The model has a reasonable true negative rate and a decent true positive rate, though it struggles somewhat with false positives and false negatives."
   ]
  },
  {
   "cell_type": "markdown",
   "metadata": {},
   "source": [
    "## Comparison of Models\n",
    "\n",
    "| Model                  | Time to Fit and Predict (sec) | Accuracy Score | Precision (0) | Recall (0) | F1-Score (0) | Precision (1) | Recall (1) | F1-Score (1) | Confusion Matrix (TN, FP, FN, TP) |\n",
    "|----------------------------|-----------------------------------|--------------------|-------------------|----------------|------------------|-------------------|----------------|------------------|---------------------------------------|\n",
    "| AdaBoost               | 0.254                             | 0.764              | 0.80              | 0.82           | 0.81             | 0.71              | 0.68           | 0.69             | (183, 41, 46, 99)                      |\n",
    "| Gradient Boosting      | 0.185                             | 0.783              | 0.79              | 0.88           | 0.83             | 0.77              | 0.64           | 0.70             | (196, 28, 52, 93)                      |\n",
    "| Random Forest          | 0.266                             | 0.780              | 0.80              | 0.85           | 0.82             | 0.74              | 0.68           | 0.71             | (190, 34, 47, 98)                      |\n",
    "| Decision Tree          | 0.049                             | 0.759              | 0.77              | 0.86           | 0.81             | 0.73              | 0.61           | 0.66             | (192, 34, 42, 103)                      |\n",
    "\n",
    "### Key Observations\n",
    "\n",
    "- Time to Fit and Predict:\n",
    "  - The Decision Tree model is the fastest, taking only 0.049 seconds.\n",
    "  - Gradient Boosting is the next fastest at 0.185 seconds, followed by AdaBoost and Random Forest which are similar in execution time (0.254 and 0.266 seconds respectively).\n",
    "\n",
    "- Accuracy Score:\n",
    "  - Gradient Boosting has the highest accuracy at 0.783.\n",
    "  - Random Forest is close behind at 0.780.\n",
    "  - AdaBoost and Decision Tree have slightly lower accuracy scores of 0.764 and 0.759 respectively.\n",
    "\n",
    "- Performance on Non-Survivors (Class 0):\n",
    "  - All models perform well in terms of precision and recall for class 0.\n",
    "  - Gradient Boosting and Random Forest have slightly higher F1-scores for class 0, indicating better balance between precision and recall.\n",
    "\n",
    "- Performance on Survivors (Class 1):\n",
    "  - AdaBoost and Random Forest have better precision and recall compared to the other models.\n",
    "  - Gradient Boosting has a lower recall for class 1 but maintains a good balance with its precision.\n",
    "\n",
    "- Confusion Matrix:\n",
    "  - The confusion matrices reflect that all models have more true negatives (correctly predicted non-survivors) than true positives (correctly predicted survivors).\n",
    "  - Gradient Boosting and Random Forest models have slightly fewer false positives and false negatives compared to AdaBoost and Decision Tree.\n",
    "\n",
    "## Conclusion\n",
    "- Gradient Boosting and Random Forest models generally outperform the others in terms of accuracy and balanced performance metrics.\n",
    "- Decision Tree is the fastest, making it suitable for very rapid predictions, but it lags slightly in accuracy and F1-scores.\n",
    "- AdaBoost offers a good compromise between speed and accuracy, but like the Decision Tree, it slightly underperforms compared to Gradient Boosting and Random Forest.\n",
    "\n"
   ]
  }
 ],
 "metadata": {
  "kernelspec": {
   "display_name": "base",
   "language": "python",
   "name": "python3"
  },
  "language_info": {
   "codemirror_mode": {
    "name": "ipython",
    "version": 3
   },
   "file_extension": ".py",
   "mimetype": "text/x-python",
   "name": "python",
   "nbconvert_exporter": "python",
   "pygments_lexer": "ipython3",
   "version": "3.11.7"
  }
 },
 "nbformat": 4,
 "nbformat_minor": 2
}
